{
 "cells": [
  {
   "cell_type": "code",
   "execution_count": 1,
   "id": "f30fdf0b",
   "metadata": {},
   "outputs": [],
   "source": [
    "import pandas as pd"
   ]
  },
  {
   "cell_type": "code",
   "execution_count": 2,
   "id": "238c5b6f",
   "metadata": {},
   "outputs": [],
   "source": [
    "df1 = pd.DataFrame(\n",
    "    {\n",
    "        \"Cat\": [\"Apples\",\"Apples\",\"Oranges\",\"Oranges\"],\n",
    "        \"Name\": [\"Granny Smith\", \"Red Delicious\",\"Blood Orange\", \"Mandarin\"],\n",
    "        \"Desc1\": [\"\",\"\",\"\",\"\"],\n",
    "        \"Desc2\": [\"\",\"\",\"\",\"\"],\n",
    "    }\n",
    ")"
   ]
  },
  {
   "cell_type": "code",
   "execution_count": 3,
   "id": "dc25d587",
   "metadata": {},
   "outputs": [
    {
     "name": "stdout",
     "output_type": "stream",
     "text": [
      "       Cat           Name Desc1 Desc2\n",
      "0   Apples   Granny Smith            \n",
      "1   Apples  Red Delicious            \n",
      "2  Oranges   Blood Orange            \n",
      "3  Oranges       Mandarin            \n"
     ]
    }
   ],
   "source": [
    "print(df1)"
   ]
  },
  {
   "cell_type": "code",
   "execution_count": 16,
   "id": "ab89b11c",
   "metadata": {},
   "outputs": [],
   "source": [
    "df2 = pd.DataFrame(\n",
    "    {\n",
    "        \"Cat\": [],\n",
    "        \"Desc1\": [],\n",
    "        \"Desc2\": []\n",
    "    }\n",
    ")"
   ]
  },
  {
   "cell_type": "code",
   "execution_count": 17,
   "id": "5c55ca91",
   "metadata": {},
   "outputs": [
    {
     "name": "stdout",
     "output_type": "stream",
     "text": [
      "Empty DataFrame\n",
      "Columns: [Cat, Desc1, Desc2]\n",
      "Index: []\n"
     ]
    }
   ],
   "source": [
    "print(df2)"
   ]
  },
  {
   "cell_type": "code",
   "execution_count": 8,
   "id": "7bb6754c",
   "metadata": {},
   "outputs": [
    {
     "name": "stdout",
     "output_type": "stream",
     "text": [
      "       Cat           Name Desc1_dest Desc2_dest  Desc1  Desc2\n",
      "0   Apples   Granny Smith                        Color  Taste\n",
      "1   Apples  Red Delicious                        Color  Taste\n",
      "2  Oranges   Blood Orange                        Taste   Size\n",
      "3  Oranges       Mandarin                        Taste   Size\n"
     ]
    }
   ],
   "source": [
    "print(pd.merge(\n",
    "    df1, df2, on=[\"Cat\",\"Cat\"], suffixes=(\"_dest\",\"\")\n",
    "))"
   ]
  },
  {
   "cell_type": "code",
   "execution_count": 36,
   "id": "265c692c",
   "metadata": {},
   "outputs": [],
   "source": [
    "df3 = pd.DataFrame(\n",
    "    {\n",
    "        \"Cat\": [\"Apples\", \"Apples\", \"Oranges\",\"Oranges\"],\n",
    "        \"Desc\": [\"Color\",\"Taste\",\"Taste\",\"Size\"]\n",
    "    }\n",
    ")"
   ]
  },
  {
   "cell_type": "code",
   "execution_count": 37,
   "id": "a54d326b",
   "metadata": {
    "scrolled": true
   },
   "outputs": [
    {
     "name": "stdout",
     "output_type": "stream",
     "text": [
      "      Cat   Desc\n",
      "0  Apples  Color\n",
      "1  Apples  Taste\n",
      "       Cat   Desc\n",
      "2  Oranges  Taste\n",
      "3  Oranges   Size\n",
      "{'Cat': ['Apples', 'Oranges'], 'Desc1': ['Color', 'Taste'], 'Desc2': ['Taste', 'Size']}\n"
     ]
    }
   ],
   "source": [
    "idx = 0\n",
    "tempDict = {\n",
    "    \"Cat\": [],\n",
    "    \"Desc1\": [],\n",
    "    \"Desc2\": []\n",
    "}\n",
    "for name, group in df3.groupby(\"Cat\"):\n",
    "    tempDict[\"Cat\"].append(name)\n",
    "    print(group)\n",
    "    descNum = 1\n",
    "    for idx, row in group.head().iterrows():\n",
    "        tempDict[\"Desc\"+str(descNum)].append(row[\"Desc\"])\n",
    "        descNum += 1\n",
    "\n",
    "print(tempDict)"
   ]
  },
  {
   "cell_type": "code",
   "execution_count": 38,
   "id": "b6fb9c6e",
   "metadata": {},
   "outputs": [],
   "source": [
    "df2 = pd.DataFrame(tempDict)"
   ]
  },
  {
   "cell_type": "code",
   "execution_count": 34,
   "id": "28db0c77",
   "metadata": {},
   "outputs": [],
   "source": [
    "df3 = pd.DataFrame({\"A\": [1,2], \"B\":[3,4]})\n"
   ]
  },
  {
   "cell_type": "code",
   "execution_count": 39,
   "id": "3b91b33d",
   "metadata": {},
   "outputs": [
    {
     "name": "stdout",
     "output_type": "stream",
     "text": [
      "       Cat  Desc1  Desc2\n",
      "0   Apples  Color  Taste\n",
      "1  Oranges  Taste   Size\n"
     ]
    }
   ],
   "source": [
    "print(df2)"
   ]
  },
  {
   "cell_type": "code",
   "execution_count": null,
   "id": "12072148",
   "metadata": {},
   "outputs": [],
   "source": []
  }
 ],
 "metadata": {
  "kernelspec": {
   "display_name": "Python 3 (ipykernel)",
   "language": "python",
   "name": "python3"
  },
  "language_info": {
   "codemirror_mode": {
    "name": "ipython",
    "version": 3
   },
   "file_extension": ".py",
   "mimetype": "text/x-python",
   "name": "python",
   "nbconvert_exporter": "python",
   "pygments_lexer": "ipython3",
   "version": "3.9.12"
  }
 },
 "nbformat": 4,
 "nbformat_minor": 5
}
